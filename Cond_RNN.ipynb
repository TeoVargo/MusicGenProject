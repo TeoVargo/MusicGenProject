{
 "cells": [
  {
   "cell_type": "code",
   "execution_count": 1,
   "metadata": {},
   "outputs": [
    {
     "name": "stdout",
     "output_type": "stream",
     "text": [
      "Requirement already satisfied: cond_rnn in /Users/teovargo/anaconda3/lib/python3.11/site-packages (3.2.1)\n",
      "Requirement already satisfied: numpy in /Users/teovargo/anaconda3/lib/python3.11/site-packages (from cond_rnn) (1.24.3)\n",
      "Requirement already satisfied: tensorflow-macos in /Users/teovargo/anaconda3/lib/python3.11/site-packages (from cond_rnn) (2.15.1)\n",
      "Requirement already satisfied: tensorflow-addons in /Users/teovargo/anaconda3/lib/python3.11/site-packages (from cond_rnn) (0.23.0)\n",
      "Requirement already satisfied: protobuf<=3.20 in /Users/teovargo/anaconda3/lib/python3.11/site-packages (from cond_rnn) (3.20.0)\n",
      "Requirement already satisfied: typeguard<3.0.0,>=2.7 in /Users/teovargo/anaconda3/lib/python3.11/site-packages (from tensorflow-addons->cond_rnn) (2.13.3)\n",
      "Requirement already satisfied: packaging in /Users/teovargo/anaconda3/lib/python3.11/site-packages (from tensorflow-addons->cond_rnn) (23.1)\n",
      "Note: you may need to restart the kernel to use updated packages.\n"
     ]
    }
   ],
   "source": [
    "#%pip install tensorflow\n",
    "%pip install cond_rnn\n"
   ]
  },
  {
   "cell_type": "code",
   "execution_count": 2,
   "metadata": {},
   "outputs": [
    {
     "name": "stdout",
     "output_type": "stream",
     "text": [
      "Requirement already satisfied: generic_utils in /Users/teovargo/anaconda3/lib/python3.11/site-packages (0.20.0)\n",
      "Requirement already satisfied: future in /Users/teovargo/anaconda3/lib/python3.11/site-packages (from generic_utils) (0.18.3)\n",
      "Requirement already satisfied: setuptools in /Users/teovargo/anaconda3/lib/python3.11/site-packages (from generic_utils) (68.0.0)\n",
      "Requirement already satisfied: six in /Users/teovargo/anaconda3/lib/python3.11/site-packages (from generic_utils) (1.16.0)\n",
      "Note: you may need to restart the kernel to use updated packages.\n"
     ]
    }
   ],
   "source": [
    "%pip install generic_utils"
   ]
  },
  {
   "cell_type": "code",
   "execution_count": null,
   "metadata": {},
   "outputs": [
    {
     "ename": "ImportError",
     "evalue": "cannot import name 'generic_utils' from 'keras.utils' (/Users/teovargo/anaconda3/lib/python3.11/site-packages/keras/api/utils/__init__.py)",
     "output_type": "error",
     "traceback": [
      "\u001b[0;31m---------------------------------------------------------------------------\u001b[0m",
      "\u001b[0;31mImportError\u001b[0m                               Traceback (most recent call last)",
      "Cell \u001b[0;32mIn[4], line 3\u001b[0m\n\u001b[1;32m      1\u001b[0m \u001b[38;5;28;01mimport\u001b[39;00m \u001b[38;5;21;01mkeras\u001b[39;00m\u001b[38;5;21;01m.\u001b[39;00m\u001b[38;5;21;01mutils\u001b[39;00m\n\u001b[1;32m      2\u001b[0m \u001b[38;5;28;01mimport\u001b[39;00m \u001b[38;5;21;01mgeneric_utils\u001b[39;00m\n\u001b[0;32m----> 3\u001b[0m \u001b[38;5;28;01mimport\u001b[39;00m \u001b[38;5;21;01mcond_rnn\u001b[39;00m\n\u001b[1;32m      4\u001b[0m \u001b[38;5;28;01mfrom\u001b[39;00m \u001b[38;5;21;01mtensorflow\u001b[39;00m\u001b[38;5;21;01m.\u001b[39;00m\u001b[38;5;21;01mkeras\u001b[39;00m \u001b[38;5;28;01mimport\u001b[39;00m Input\n\u001b[1;32m      5\u001b[0m \u001b[38;5;28;01mfrom\u001b[39;00m \u001b[38;5;21;01mtensorflow\u001b[39;00m\u001b[38;5;21;01m.\u001b[39;00m\u001b[38;5;21;01mkeras\u001b[39;00m\u001b[38;5;21;01m.\u001b[39;00m\u001b[38;5;21;01mlayers\u001b[39;00m \u001b[38;5;28;01mimport\u001b[39;00m LSTM\n",
      "File \u001b[0;32m~/anaconda3/lib/python3.11/site-packages/cond_rnn/__init__.py:1\u001b[0m\n\u001b[0;32m----> 1\u001b[0m \u001b[38;5;28;01mfrom\u001b[39;00m \u001b[38;5;21;01mcond_rnn\u001b[39;00m\u001b[38;5;21;01m.\u001b[39;00m\u001b[38;5;21;01mcond_rnn\u001b[39;00m \u001b[38;5;28;01mimport\u001b[39;00m ConditionalRecurrent\n",
      "File \u001b[0;32m~/anaconda3/lib/python3.11/site-packages/cond_rnn/cond_rnn.py:2\u001b[0m\n\u001b[1;32m      1\u001b[0m \u001b[38;5;28;01mimport\u001b[39;00m \u001b[38;5;21;01mtensorflow\u001b[39;00m \u001b[38;5;28;01mas\u001b[39;00m \u001b[38;5;21;01mtf\u001b[39;00m\n\u001b[0;32m----> 2\u001b[0m \u001b[38;5;28;01mfrom\u001b[39;00m \u001b[38;5;21;01mkeras\u001b[39;00m\u001b[38;5;21;01m.\u001b[39;00m\u001b[38;5;21;01mutils\u001b[39;00m \u001b[38;5;28;01mimport\u001b[39;00m generic_utils\n\u001b[1;32m      3\u001b[0m \u001b[38;5;28;01mfrom\u001b[39;00m \u001b[38;5;21;01mtensorflow\u001b[39;00m\u001b[38;5;21;01m.\u001b[39;00m\u001b[38;5;21;01mkeras\u001b[39;00m \u001b[38;5;28;01mimport\u001b[39;00m backend \u001b[38;5;28;01mas\u001b[39;00m K\n\u001b[1;32m      4\u001b[0m \u001b[38;5;28;01mfrom\u001b[39;00m \u001b[38;5;21;01mtensorflow\u001b[39;00m\u001b[38;5;21;01m.\u001b[39;00m\u001b[38;5;21;01mkeras\u001b[39;00m\u001b[38;5;21;01m.\u001b[39;00m\u001b[38;5;21;01mlayers\u001b[39;00m \u001b[38;5;28;01mimport\u001b[39;00m LSTM, Dense, GRU, RNN, Lambda, Wrapper\n",
      "\u001b[0;31mImportError\u001b[0m: cannot import name 'generic_utils' from 'keras.utils' (/Users/teovargo/anaconda3/lib/python3.11/site-packages/keras/api/utils/__init__.py)"
     ]
    }
   ],
   "source": [
    "import generic_utils\n",
    "import cond_rnn\n",
    "from tensorflow.keras import Input\n",
    "from tensorflow.keras.layers import LSTM\n",
    "from tensorflow.keras import models\n"
   ]
  },
  {
   "cell_type": "code",
   "execution_count": null,
   "metadata": {},
   "outputs": [],
   "source": [
    "time_steps, input_dim, output_dim, batch_size, cond_size = 128, 6, 12, 32, 5\n",
    "inputs = Input(batch_input_shape=(batch_size, time_steps, input_dim))\n",
    "cond_inputs = Input(batch_input_shape=(batch_size, cond_size))\n",
    "\n",
    "outputs = ConditionalRecurrent(LSTM(units=output_dim))([inputs, cond_inputs])\n",
    "print(outputs.shape)  # (batch_size, output_dim)"
   ]
  },
  {
   "cell_type": "code",
   "execution_count": null,
   "metadata": {},
   "outputs": [],
   "source": []
  }
 ],
 "metadata": {
  "kernelspec": {
   "display_name": "base",
   "language": "python",
   "name": "python3"
  },
  "language_info": {
   "codemirror_mode": {
    "name": "ipython",
    "version": 3
   },
   "file_extension": ".py",
   "mimetype": "text/x-python",
   "name": "python",
   "nbconvert_exporter": "python",
   "pygments_lexer": "ipython3",
   "version": "3.11.5"
  }
 },
 "nbformat": 4,
 "nbformat_minor": 2
}
